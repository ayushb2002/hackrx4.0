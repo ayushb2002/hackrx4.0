{
 "cells": [
  {
   "cell_type": "code",
   "execution_count": 101,
   "id": "54dc125a",
   "metadata": {},
   "outputs": [],
   "source": [
    "import pandas as pd\n",
    "import numpy as np\n",
    "import matplotlib.pyplot as plt\n",
    "import pickle as pkl\n",
    "import warnings\n",
    "warnings(fiter_warnings=False)"
   ]
  },
  {
   "cell_type": "code",
   "execution_count": 175,
   "id": "e03a3101",
   "metadata": {},
   "outputs": [],
   "source": [
    "data=pd.read_csv(r\"C:\\Users\\shash\\Downloads\\json-to-csv.csv\")\n",
    "data=data.sample(len(data))"
   ]
  },
  {
   "cell_type": "code",
   "execution_count": 176,
   "id": "53adcabf",
   "metadata": {},
   "outputs": [
    {
     "data": {
      "text/plain": [
       "(87, 8)"
      ]
     },
     "execution_count": 176,
     "metadata": {},
     "output_type": "execute_result"
    }
   ],
   "source": [
    "data=data[data[\"lang\"]==\"en\"]\n",
    "data.shape"
   ]
  },
  {
   "cell_type": "code",
   "execution_count": 177,
   "id": "bd8f6a25",
   "metadata": {},
   "outputs": [
    {
     "data": {
      "text/plain": [
       "Index(['created_at', 'full_text', 'user/name', 'user/screen_name',\n",
       "       'user/location', 'user/followers_count', 'user/friends_count', 'lang'],\n",
       "      dtype='object')"
      ]
     },
     "execution_count": 177,
     "metadata": {},
     "output_type": "execute_result"
    }
   ],
   "source": [
    "data.columns"
   ]
  },
  {
   "cell_type": "code",
   "execution_count": 178,
   "id": "0b12f8a4",
   "metadata": {},
   "outputs": [
    {
     "data": {
      "text/html": [
       "<div>\n",
       "<style scoped>\n",
       "    .dataframe tbody tr th:only-of-type {\n",
       "        vertical-align: middle;\n",
       "    }\n",
       "\n",
       "    .dataframe tbody tr th {\n",
       "        vertical-align: top;\n",
       "    }\n",
       "\n",
       "    .dataframe thead th {\n",
       "        text-align: right;\n",
       "    }\n",
       "</style>\n",
       "<table border=\"1\" class=\"dataframe\">\n",
       "  <thead>\n",
       "    <tr style=\"text-align: right;\">\n",
       "      <th></th>\n",
       "      <th>created_at</th>\n",
       "      <th>full_text</th>\n",
       "      <th>user/name</th>\n",
       "      <th>user/screen_name</th>\n",
       "      <th>user/location</th>\n",
       "      <th>user/followers_count</th>\n",
       "      <th>user/friends_count</th>\n",
       "      <th>lang</th>\n",
       "    </tr>\n",
       "  </thead>\n",
       "  <tbody>\n",
       "    <tr>\n",
       "      <th>27</th>\n",
       "      <td>Mon Jul 17 14:24:12 +0000 2023</td>\n",
       "      <td>RT @ePremKishor: @sushantkumar67 @Bajaj_Finser...</td>\n",
       "      <td>Sibhani Mahatre</td>\n",
       "      <td>shibanirekt</td>\n",
       "      <td>Bengaluru, India</td>\n",
       "      <td>550</td>\n",
       "      <td>650</td>\n",
       "      <td>en</td>\n",
       "    </tr>\n",
       "    <tr>\n",
       "      <th>92</th>\n",
       "      <td>Mon Jul 17 06:30:00 +0000 2023</td>\n",
       "      <td>A financial plan is the foundation for a busin...</td>\n",
       "      <td>Bajaj_Finserv</td>\n",
       "      <td>Bajaj_Finserv</td>\n",
       "      <td>India</td>\n",
       "      <td>66961</td>\n",
       "      <td>10</td>\n",
       "      <td>en</td>\n",
       "    </tr>\n",
       "    <tr>\n",
       "      <th>13</th>\n",
       "      <td>Mon Jul 17 15:36:33 +0000 2023</td>\n",
       "      <td>Not everything can be said in words\\n#WorldEmo...</td>\n",
       "      <td>Bajaj_Finserv</td>\n",
       "      <td>Bajaj_Finserv</td>\n",
       "      <td>India</td>\n",
       "      <td>66961</td>\n",
       "      <td>10</td>\n",
       "      <td>en</td>\n",
       "    </tr>\n",
       "    <tr>\n",
       "      <th>59</th>\n",
       "      <td>Mon Jul 17 11:53:15 +0000 2023</td>\n",
       "      <td>@Toibur_sync @Bajaj_Finserv If u want get rid ...</td>\n",
       "      <td>Amit Gaur</td>\n",
       "      <td>AmittGaur</td>\n",
       "      <td>NaN</td>\n",
       "      <td>145</td>\n",
       "      <td>302</td>\n",
       "      <td>en</td>\n",
       "    </tr>\n",
       "    <tr>\n",
       "      <th>94</th>\n",
       "      <td>Mon Jul 17 05:46:49 +0000 2023</td>\n",
       "      <td>Now build a solid credit score shopping on EMI...</td>\n",
       "      <td>Bajaj_Finserv</td>\n",
       "      <td>Bajaj_Finserv</td>\n",
       "      <td>India</td>\n",
       "      <td>66961</td>\n",
       "      <td>10</td>\n",
       "      <td>en</td>\n",
       "    </tr>\n",
       "  </tbody>\n",
       "</table>\n",
       "</div>"
      ],
      "text/plain": [
       "                        created_at  \\\n",
       "27  Mon Jul 17 14:24:12 +0000 2023   \n",
       "92  Mon Jul 17 06:30:00 +0000 2023   \n",
       "13  Mon Jul 17 15:36:33 +0000 2023   \n",
       "59  Mon Jul 17 11:53:15 +0000 2023   \n",
       "94  Mon Jul 17 05:46:49 +0000 2023   \n",
       "\n",
       "                                            full_text        user/name  \\\n",
       "27  RT @ePremKishor: @sushantkumar67 @Bajaj_Finser...  Sibhani Mahatre   \n",
       "92  A financial plan is the foundation for a busin...    Bajaj_Finserv   \n",
       "13  Not everything can be said in words\\n#WorldEmo...    Bajaj_Finserv   \n",
       "59  @Toibur_sync @Bajaj_Finserv If u want get rid ...        Amit Gaur   \n",
       "94  Now build a solid credit score shopping on EMI...    Bajaj_Finserv   \n",
       "\n",
       "   user/screen_name     user/location  user/followers_count  \\\n",
       "27      shibanirekt  Bengaluru, India                   550   \n",
       "92    Bajaj_Finserv             India                 66961   \n",
       "13    Bajaj_Finserv             India                 66961   \n",
       "59        AmittGaur               NaN                   145   \n",
       "94    Bajaj_Finserv             India                 66961   \n",
       "\n",
       "    user/friends_count lang  \n",
       "27                 650   en  \n",
       "92                  10   en  \n",
       "13                  10   en  \n",
       "59                 302   en  \n",
       "94                  10   en  "
      ]
     },
     "execution_count": 178,
     "metadata": {},
     "output_type": "execute_result"
    }
   ],
   "source": [
    "data.head()"
   ]
  },
  {
   "cell_type": "markdown",
   "id": "c81b6eab",
   "metadata": {},
   "source": [
    "## INTENT ANALYSIS"
   ]
  },
  {
   "cell_type": "code",
   "execution_count": 179,
   "id": "c17ed3b2",
   "metadata": {},
   "outputs": [],
   "source": [
    "intent=pkl.load(open(\"intent_classification.pkl\",\"rb\"))\n",
    "intent_tfidf=pkl.load(open(\"intent_classification_tfidf.pkl\",\"rb\"))"
   ]
  },
  {
   "cell_type": "code",
   "execution_count": 180,
   "id": "c333844c",
   "metadata": {},
   "outputs": [],
   "source": [
    "def predict_intent(s):\n",
    "    s=[s]\n",
    "    d=intent.predict(intent_tfidf.transform(s))\n",
    "    if d[0][0] == 1:\n",
    "        return \"enquiry\"\n",
    "    elif d[0][1] == 1:\n",
    "        return \"general talk\"\n",
    "    else:\n",
    "        return \"complaint\""
   ]
  },
  {
   "cell_type": "code",
   "execution_count": 181,
   "id": "897d8ac9",
   "metadata": {},
   "outputs": [],
   "source": [
    "data[\"intent\"]=data[\"full_text\"].apply(lambda x:predict_intent(x))"
   ]
  },
  {
   "cell_type": "code",
   "execution_count": 182,
   "id": "a3bcfbd9",
   "metadata": {},
   "outputs": [
    {
     "data": {
      "text/plain": [
       "general talk    44\n",
       "complaint       39\n",
       "enquiry          4\n",
       "Name: intent, dtype: int64"
      ]
     },
     "execution_count": 182,
     "metadata": {},
     "output_type": "execute_result"
    }
   ],
   "source": [
    "data[\"intent\"].value_counts()"
   ]
  },
  {
   "cell_type": "code",
   "execution_count": null,
   "id": "4382a478",
   "metadata": {},
   "outputs": [],
   "source": []
  },
  {
   "cell_type": "code",
   "execution_count": 183,
   "id": "f8d2153d",
   "metadata": {},
   "outputs": [
    {
     "data": {
      "image/png": "[encoded data removed]",
      "text/plain": [
       "<Figure size 432x288 with 1 Axes>"
      ]
     },
     "metadata": {},
     "output_type": "display_data"
    }
   ],
   "source": [
    "Salary = data[\"intent\"].value_counts()\n",
    "colors = ['#FF0000', '#0000FF', '#FFFF00']\n",
    "explode = (0.05, 0.05, 0.05)\n",
    "plt.pie(Salary, colors=colors, labels=data[\"intent\"].value_counts().index,\n",
    "        autopct='%1.1f%%', pctdistance=0.5,\n",
    "        explode=explode)\n",
    "centre_circle = plt.Circle((0, 0), 0.70, fc='white')\n",
    "fig = plt.gcf()\n",
    "fig.gca().add_artist(centre_circle)\n",
    "plt.show()"
   ]
  },
  {
   "cell_type": "code",
   "execution_count": 184,
   "id": "43348364",
   "metadata": {},
   "outputs": [],
   "source": [
    "data_complaint=data[data[\"intent\"]==\"complaint\"]\n",
    "data_enquiry=data[data[\"intent\"]==\"enquiry\"]"
   ]
  },
  {
   "cell_type": "code",
   "execution_count": null,
   "id": "b2480cf7",
   "metadata": {},
   "outputs": [],
   "source": []
  },
  {
   "cell_type": "markdown",
   "id": "9d8c2c0f",
   "metadata": {},
   "source": [
    "## SENTIMENT ANALYSIS"
   ]
  },
  {
   "cell_type": "code",
   "execution_count": 185,
   "id": "be62f324",
   "metadata": {},
   "outputs": [],
   "source": [
    "sentiment=pkl.load(open(\"tweet_clf.pkl\",\"rb\"))\n",
    "sentiment_tfidf=pkl.load(open(\"tweet_tfidf.pkl\",\"rb\"))"
   ]
  },
  {
   "cell_type": "code",
   "execution_count": 186,
   "id": "eb034dca",
   "metadata": {},
   "outputs": [],
   "source": [
    "def predict_sentiment(s):\n",
    "    s=[s]\n",
    "    d=sentiment.predict(sentiment_tfidf.transform(s))\n",
    "    if d[0]==1:\n",
    "        return \"positive\"\n",
    "    else:\n",
    "        return \"negative\""
   ]
  },
  {
   "cell_type": "code",
   "execution_count": 187,
   "id": "ea1a860d",
   "metadata": {},
   "outputs": [],
   "source": [
    "data[\"sentiment\"]=data[\"full_text\"].apply(lambda x:predict_sentiment(x))"
   ]
  },
  {
   "cell_type": "code",
   "execution_count": 188,
   "id": "8b5222e4",
   "metadata": {},
   "outputs": [
    {
     "data": {
      "image/png": "[encoded data removed]",
      "text/plain": [
       "<Figure size 432x288 with 1 Axes>"
      ]
     },
     "metadata": {},
     "output_type": "display_data"
    }
   ],
   "source": [
    "Salary = data[\"sentiment\"].value_counts()\n",
    "colors = ['#8ffb8d', '#f91b28']\n",
    "explode = (0.05, 0.05)\n",
    "plt.pie(Salary, colors=colors, labels=data[\"sentiment\"].value_counts().index,\n",
    "        autopct='%1.1f%%', pctdistance=0.4,\n",
    "        explode=explode)\n",
    "centre_circle = plt.Circle((0, 0), 0.70, fc='white')\n",
    "fig = plt.gcf()\n",
    "fig.gca().add_artist(centre_circle)\n",
    "plt.show()"
   ]
  },
  {
   "cell_type": "markdown",
   "id": "4621e8a4",
   "metadata": {},
   "source": [
    "## SERVICE ANALYSIS"
   ]
  },
  {
   "cell_type": "code",
   "execution_count": 189,
   "id": "8a3055aa",
   "metadata": {},
   "outputs": [],
   "source": [
    "service=pkl.load(open(\"service_model.pkl\",\"rb\"))\n",
    "service_tfidf=pkl.load(open(\"service_model_tfidf.pkl\",\"rb\"))"
   ]
  },
  {
   "cell_type": "code",
   "execution_count": 190,
   "id": "8c28db92",
   "metadata": {},
   "outputs": [],
   "source": [
    "def predict_service(s):\n",
    "    s=[s]\n",
    "    d=service.predict(service_tfidf.transform(s))\n",
    "    if d[0][0]==1:\n",
    "        return \"EMI\"\n",
    "    elif d[0][1]==1:\n",
    "        return \"insurance\"\n",
    "    elif d[0][2]==1:\n",
    "        return \"investment\"\n",
    "    elif d[0][3]==1:\n",
    "        return \"loan\"\n",
    "    elif d[0][4]==1:\n",
    "        return \"savings\"\n",
    "    else:\n",
    "        return \"card\""
   ]
  },
  {
   "cell_type": "code",
   "execution_count": 191,
   "id": "f89d1be3",
   "metadata": {},
   "outputs": [],
   "source": [
    "data[\"service\"]=data[\"full_text\"].apply(lambda x:predict_service(x))"
   ]
  },
  {
   "cell_type": "code",
   "execution_count": 192,
   "id": "282b7707",
   "metadata": {},
   "outputs": [
    {
     "data": {
      "text/plain": [
       "card          78\n",
       "EMI            6\n",
       "loan           2\n",
       "investment     1\n",
       "Name: service, dtype: int64"
      ]
     },
     "execution_count": 192,
     "metadata": {},
     "output_type": "execute_result"
    }
   ],
   "source": [
    "data[\"service\"].value_counts()"
   ]
  },
  {
   "cell_type": "code",
   "execution_count": 201,
   "id": "cc393bfe",
   "metadata": {},
   "outputs": [
    {
     "data": {
      "text/plain": [
       "<BarContainer object of 4 artists>"
      ]
     },
     "execution_count": 201,
     "metadata": {},
     "output_type": "execute_result"
    },
    {
     "data": {
      "image/png": "[encoded data removed]",
      "text/plain": [
       "<Figure size 432x288 with 1 Axes>"
      ]
     },
     "metadata": {
      "needs_background": "light"
     },
     "output_type": "display_data"
    }
   ],
   "source": [
    "plt.bar(data[\"service\"].value_counts().index,data[\"service\"].value_counts())"
   ]
  },
  {
   "cell_type": "code",
   "execution_count": null,
   "id": "7dc4476c",
   "metadata": {},
   "outputs": [],
   "source": []
  },
  {
   "cell_type": "code",
   "execution_count": null,
   "id": "a291847c",
   "metadata": {},
   "outputs": [],
   "source": []
  }
 ],
 "metadata": {
  "kernelspec": {
   "display_name": "Python 3 (ipykernel)",
   "language": "python",
   "name": "python3"
  },
  "language_info": {
   "codemirror_mode": {
    "name": "ipython",
    "version": 3
   },
   "file_extension": ".py",
   "mimetype": "text/x-python",
   "name": "python",
   "nbconvert_exporter": "python",
   "pygments_lexer": "ipython3",
   "version": "3.9.12"
  }
 },
 "nbformat": 4,
 "nbformat_minor": 5
}
