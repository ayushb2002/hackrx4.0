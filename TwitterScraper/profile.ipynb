{
 "cells": [
  {
   "cell_type": "code",
   "execution_count": 12,
   "metadata": {},
   "outputs": [],
   "source": [
    "import pandas as pd\n",
    "import numpy as np\n",
    "import requests\n",
    "import re\n",
    "import nltk\n",
    "from nltk.corpus import stopwords\n",
    "from nltk.stem import WordNetLemmatizer"
   ]
  },
  {
   "cell_type": "code",
   "execution_count": 2,
   "metadata": {},
   "outputs": [],
   "source": [
    "df = pd.non_numericFrame(columns=['username', 'followers', 'following', 'gender', 'dob', 'email', 'phone', 'age'])"
   ]
  },
  {
   "cell_type": "code",
   "execution_count": 19,
   "metadata": {},
   "outputs": [],
   "source": [
    "def contains_number(s):\n",
    "    return any(char.isdigit() for char in s)\n",
    "\n",
    "def nlp_processing(non_numeric):\n",
    "    for i in range(len(non_numeric)):\n",
    "        txt = re.sub('[^a-zA-Z]', ' ', non_numeric[i])\n",
    "        txt = txt.lower()\n",
    "        txt = txt.split()\n",
    "        wl = WordNetLemmatizer()\n",
    "        txt = [wl.lemmatize(word) for word in txt if not word in set(stopwords.words('english'))]\n",
    "        txt = ' '.join(txt)\n",
    "        non_numeric[i] = txt\n",
    "        \n",
    "    return non_numeric\n",
    "\n",
    "def extractData(biography):\n",
    "    keywords = biography.split('\\n')\n",
    "    gender = ''\n",
    "    dob = ''\n",
    "    email = ''\n",
    "    phone = ''\n",
    "    age = ''\n",
    "    \n",
    "    numeric, non_numeric = [], []\n",
    "    for txt in keywords:\n",
    "        if contains_number(txt):\n",
    "            numeric.append(txt)\n",
    "        else:\n",
    "            non_numeric.append(txt)\n",
    "    \n",
    "    processed_non_numeric = nlp_processing(non_numeric)\n",
    "    return gender, dob, email, phone, age\n",
    "\n",
    "def getUserProfile(username):\n",
    "    url = \"http://127.0.0.1:8000/instagram/profile/\"\n",
    "    body = {\n",
    "        \"username\": username\n",
    "    }\n",
    "    r = requests.post(url, json=body)\n",
    "    data= r.json()\n",
    "    gender, dob, email, phone, age = extractData(data['biography'])\n",
    "    df.loc[len(df.index)] = [username, data['followers'], data['following'], gender, dob, email, phone, age]\n",
    "    return len(df)"
   ]
  },
  {
   "cell_type": "code",
   "execution_count": 10,
   "metadata": {},
   "outputs": [
    {
     "name": "stdout",
     "output_type": "stream",
     "text": [
      "{'username': 'ayushhhbansal', 'verified': False, 'followers': 182, 'following': 244, 'biography': \".--. .-. --- --. .-. .- -- -- . .-.\\nSRDAV'20\\nJIIT62 CSE'24\\n3rd October\\n18\\nIndian 🇮🇳\", 'post_urls': []}\n",
      "['.--. .-. --- --. .-. .- -- -- . .-.', \"SRDAV'20\", \"JIIT62 CSE'24\", '3rd October', '18', 'Indian 🇮🇳']\n"
     ]
    },
    {
     "data": {
      "text/plain": [
       "1"
      ]
     },
     "execution_count": 10,
     "metadata": {},
     "output_type": "execute_result"
    }
   ],
   "source": [
    "getUserProfile('ayushhhbansal')"
   ]
  },
  {
   "cell_type": "code",
   "execution_count": 18,
   "metadata": {},
   "outputs": [],
   "source": [
    "data = ['.--. .-. --- --. .-. .- -- -- . .-.', \"SRDAV'20\", \"JIIT62 CSE'24\", '3rd October', '18', 'Indian 🇮🇳']"
   ]
  },
  {
   "cell_type": "code",
   "execution_count": null,
   "metadata": {},
   "outputs": [],
   "source": []
  }
 ],
 "metadata": {
  "kernelspec": {
   "display_name": "env",
   "language": "python",
   "name": "python3"
  },
  "language_info": {
   "codemirror_mode": {
    "name": "ipython",
    "version": 3
   },
   "file_extension": ".py",
   "mimetype": "text/x-python",
   "name": "python",
   "nbconvert_exporter": "python",
   "pygments_lexer": "ipython3",
   "version": "3.10.9"
  },
  "orig_nbformat": 4
 },
 "nbformat": 4,
 "nbformat_minor": 2
}
