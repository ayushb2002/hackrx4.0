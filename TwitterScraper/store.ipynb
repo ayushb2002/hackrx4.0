{
 "cells": [
  {
   "cell_type": "code",
   "execution_count": 2,
   "metadata": {},
   "outputs": [],
   "source": [
    "import requests\n",
    "import pandas as pd\n",
    "import numpy as np\n",
    "import re\n",
    "import nltk\n",
    "from nltk.corpus import stopwords\n",
    "from nltk.stem import WordNetLemmatizer\n",
    "# nltk.download('stopwords')\n",
    "# nltk.download('wordnet')"
   ]
  },
  {
   "cell_type": "code",
   "execution_count": 2,
   "metadata": {},
   "outputs": [
    {
     "data": {
      "text/html": [
       "<div>\n",
       "<style scoped>\n",
       "    .dataframe tbody tr th:only-of-type {\n",
       "        vertical-align: middle;\n",
       "    }\n",
       "\n",
       "    .dataframe tbody tr th {\n",
       "        vertical-align: top;\n",
       "    }\n",
       "\n",
       "    .dataframe thead th {\n",
       "        text-align: right;\n",
       "    }\n",
       "</style>\n",
       "<table border=\"1\" class=\"dataframe\">\n",
       "  <thead>\n",
       "    <tr style=\"text-align: right;\">\n",
       "      <th></th>\n",
       "      <th>Lang</th>\n",
       "      <th>Text</th>\n",
       "      <th>Author</th>\n",
       "      <th>Service</th>\n",
       "    </tr>\n",
       "  </thead>\n",
       "  <tbody>\n",
       "    <tr>\n",
       "      <th>0</th>\n",
       "      <td>en</td>\n",
       "      <td>rt kiranprajput starting career never get comp...</td>\n",
       "      <td>AnkitAgrawal__</td>\n",
       "      <td>insurance</td>\n",
       "    </tr>\n",
       "    <tr>\n",
       "      <th>1</th>\n",
       "      <td>en</td>\n",
       "      <td>rt sensorygirl payday piggy distributing fund ...</td>\n",
       "      <td>SpoilLilith</td>\n",
       "      <td>savings</td>\n",
       "    </tr>\n",
       "    <tr>\n",
       "      <th>2</th>\n",
       "      <td>en</td>\n",
       "      <td>rt xvxeos insurance company changed primary he...</td>\n",
       "      <td>ManhoodGR</td>\n",
       "      <td>insurance</td>\n",
       "    </tr>\n",
       "    <tr>\n",
       "      <th>3</th>\n",
       "      <td>en</td>\n",
       "      <td>kotakgeneral adding humanresources amp automat...</td>\n",
       "      <td>BankingFrontier</td>\n",
       "      <td>insurance</td>\n",
       "    </tr>\n",
       "    <tr>\n",
       "      <th>4</th>\n",
       "      <td>en</td>\n",
       "      <td>also victim fraud r lakh premium paid cheque p...</td>\n",
       "      <td>VijayJollyBJP</td>\n",
       "      <td>insurance</td>\n",
       "    </tr>\n",
       "  </tbody>\n",
       "</table>\n",
       "</div>"
      ],
      "text/plain": [
       "  Lang                                               Text           Author  \\\n",
       "0   en  rt kiranprajput starting career never get comp...   AnkitAgrawal__   \n",
       "1   en  rt sensorygirl payday piggy distributing fund ...      SpoilLilith   \n",
       "2   en  rt xvxeos insurance company changed primary he...        ManhoodGR   \n",
       "3   en  kotakgeneral adding humanresources amp automat...  BankingFrontier   \n",
       "4   en  also victim fraud r lakh premium paid cheque p...    VijayJollyBJP   \n",
       "\n",
       "     Service  \n",
       "0  insurance  \n",
       "1    savings  \n",
       "2  insurance  \n",
       "3  insurance  \n",
       "4  insurance  "
      ]
     },
     "execution_count": 2,
     "metadata": {},
     "output_type": "execute_result"
    }
   ],
   "source": [
    "# df = pd.DataFrame(columns=['Lang', 'Text', 'Author', 'Service'])\n",
    "df = pd.read_csv('processed_english_twitter_data.csv')\n",
    "df.head()"
   ]
  },
  {
   "cell_type": "code",
   "execution_count": 3,
   "metadata": {},
   "outputs": [],
   "source": [
    "def store_to_csv(keyword, count, cls):\n",
    "    url = 'http://127.0.0.1:8000/tweets/'\n",
    "    obj = {\n",
    "        \"keyword\": keyword,\n",
    "        \"count\": count\n",
    "        }\n",
    "\n",
    "    r = requests.post(url, json=obj)\n",
    "    data = r.json()\n",
    "    tweets = data['tweets']\n",
    "    for tweet in tweets:\n",
    "        temp = [tweet['lang'], tweet['full_text'], tweet['user']['screen_name'], cls]\n",
    "        df.loc[len(df.index)] = temp\n",
    "    \n",
    "    return len(df)\n",
    "        "
   ]
  },
  {
   "cell_type": "code",
   "execution_count": 5,
   "metadata": {},
   "outputs": [
    {
     "data": {
      "text/plain": [
       "1871"
      ]
     },
     "execution_count": 5,
     "metadata": {},
     "output_type": "execute_result"
    }
   ],
   "source": [
    "store_to_csv('credit card axis bank', 50, 'card')\n",
    "store_to_csv('debit card axis bank', 50, 'card')\n",
    "store_to_csv('credit card hdfc bank', 50, 'card')\n",
    "store_to_csv('debit card hdfc bank', 50, 'card')\n",
    "store_to_csv('credit card icici bank', 50, 'card')\n",
    "store_to_csv('debit card icici bank', 50, 'card')\n",
    "store_to_csv('credit card sbi bank', 50, 'card')\n",
    "store_to_csv('debit card sbi bank', 50, 'card')\n",
    "store_to_csv('credit card induslin bank', 50, 'card')\n",
    "store_to_csv('credit card american express', 50, 'card')\n",
    "store_to_csv('credit card kotak mahindra', 50, 'card')"
   ]
  },
  {
   "cell_type": "code",
   "execution_count": 4,
   "metadata": {},
   "outputs": [
    {
     "data": {
      "text/plain": [
       "1463"
      ]
     },
     "execution_count": 4,
     "metadata": {},
     "output_type": "execute_result"
    }
   ],
   "source": [
    "store_to_csv('loan mahindra finance', 50, 'loan')\n",
    "store_to_csv('loan finance buddha', 50, 'loan')\n",
    "store_to_csv('loan turbo loan', 50, 'loan')\n",
    "store_to_csv('loan canara bank', 50, 'loan')\n",
    "store_to_csv('loan pnb bank', 50, 'loan')\n",
    "store_to_csv('loan uco bank', 50, 'loan')\n",
    "store_to_csv('loan andhra bank', 50, 'loan')\n",
    "store_to_csv('loan hsbc bank', 50, 'loan')\n",
    "store_to_csv('loan icici bank', 50, 'loan')\n",
    "store_to_csv('loan axis bank', 50, 'loan')\n",
    "store_to_csv('loan hdfc bank', 50, 'loan')\n",
    "store_to_csv('loan sbi bank', 50, 'loan')\n",
    "store_to_csv('loan IDBI bank', 50, 'loan')\n"
   ]
  },
  {
   "cell_type": "code",
   "execution_count": 4,
   "metadata": {},
   "outputs": [
    {
     "data": {
      "text/plain": [
       "1212"
      ]
     },
     "execution_count": 4,
     "metadata": {},
     "output_type": "execute_result"
    }
   ],
   "source": [
    "store_to_csv('insurance hdfc', 50, 'insurance')\n",
    "store_to_csv('insurance icici', 50, 'insurance')\n",
    "store_to_csv('insurance LIC', 50, 'insurance')\n",
    "store_to_csv('insurance max', 50, 'insurance')\n",
    "store_to_csv('insurance kotak', 50, 'insurance')\n",
    "store_to_csv('insurance aditya birla', 50, 'insurance')\n",
    "store_to_csv('insurance tata', 50, 'insurance')\n",
    "store_to_csv('insurance sbi', 50, 'insurance')\n",
    "store_to_csv('insurance exide', 50, 'insurance')\n",
    "store_to_csv('insurance pnb', 50, 'insurance')\n",
    "store_to_csv('insurance reliance', 50, 'insurance')\n",
    "store_to_csv('insurance bharti axa', 50, 'insurance')"
   ]
  },
  {
   "cell_type": "code",
   "execution_count": 17,
   "metadata": {},
   "outputs": [
    {
     "data": {
      "text/plain": [
       "1003"
      ]
     },
     "execution_count": 17,
     "metadata": {},
     "output_type": "execute_result"
    }
   ],
   "source": [
    "store_to_csv('emi bajaj', 150, 'emi')\n",
    "store_to_csv('loans bajaj', 150, 'loan')\n",
    "store_to_csv('cards bajaj', 150, 'card')\n",
    "store_to_csv('insurance bajaj', 150, 'insurance')\n",
    "store_to_csv('emi', 250, 'emi')\n",
    "store_to_csv('loans', 250, 'loan')\n",
    "store_to_csv('cards', 250, 'card')\n",
    "store_to_csv('insurance', 250, 'insurance')\n",
    "store_to_csv('investment and wealth management', 150, 'investment')\n",
    "store_to_csv('savings and deposit', 150, 'savings')\n",
    "store_to_csv('investment bajaj', 50, 'investment')\n",
    "store_to_csv('savings bajaj', 50, 'savings')"
   ]
  },
  {
   "cell_type": "code",
   "execution_count": 6,
   "metadata": {},
   "outputs": [
    {
     "data": {
      "text/html": [
       "<div>\n",
       "<style scoped>\n",
       "    .dataframe tbody tr th:only-of-type {\n",
       "        vertical-align: middle;\n",
       "    }\n",
       "\n",
       "    .dataframe tbody tr th {\n",
       "        vertical-align: top;\n",
       "    }\n",
       "\n",
       "    .dataframe thead th {\n",
       "        text-align: right;\n",
       "    }\n",
       "</style>\n",
       "<table border=\"1\" class=\"dataframe\">\n",
       "  <thead>\n",
       "    <tr style=\"text-align: right;\">\n",
       "      <th></th>\n",
       "      <th>Lang</th>\n",
       "      <th>Text</th>\n",
       "      <th>Author</th>\n",
       "      <th>Service</th>\n",
       "    </tr>\n",
       "  </thead>\n",
       "  <tbody>\n",
       "    <tr>\n",
       "      <th>0</th>\n",
       "      <td>en</td>\n",
       "      <td>rt kiranprajput starting career never get comp...</td>\n",
       "      <td>AnkitAgrawal__</td>\n",
       "      <td>insurance</td>\n",
       "    </tr>\n",
       "    <tr>\n",
       "      <th>1</th>\n",
       "      <td>en</td>\n",
       "      <td>rt sensorygirl payday piggy distributing fund ...</td>\n",
       "      <td>SpoilLilith</td>\n",
       "      <td>savings</td>\n",
       "    </tr>\n",
       "    <tr>\n",
       "      <th>2</th>\n",
       "      <td>en</td>\n",
       "      <td>rt xvxeos insurance company changed primary he...</td>\n",
       "      <td>ManhoodGR</td>\n",
       "      <td>insurance</td>\n",
       "    </tr>\n",
       "    <tr>\n",
       "      <th>3</th>\n",
       "      <td>en</td>\n",
       "      <td>kotakgeneral adding humanresources amp automat...</td>\n",
       "      <td>BankingFrontier</td>\n",
       "      <td>insurance</td>\n",
       "    </tr>\n",
       "    <tr>\n",
       "      <th>4</th>\n",
       "      <td>en</td>\n",
       "      <td>also victim fraud r lakh premium paid cheque p...</td>\n",
       "      <td>VijayJollyBJP</td>\n",
       "      <td>insurance</td>\n",
       "    </tr>\n",
       "  </tbody>\n",
       "</table>\n",
       "</div>"
      ],
      "text/plain": [
       "  Lang                                               Text           Author  \\\n",
       "0   en  rt kiranprajput starting career never get comp...   AnkitAgrawal__   \n",
       "1   en  rt sensorygirl payday piggy distributing fund ...      SpoilLilith   \n",
       "2   en  rt xvxeos insurance company changed primary he...        ManhoodGR   \n",
       "3   en  kotakgeneral adding humanresources amp automat...  BankingFrontier   \n",
       "4   en  also victim fraud r lakh premium paid cheque p...    VijayJollyBJP   \n",
       "\n",
       "     Service  \n",
       "0  insurance  \n",
       "1    savings  \n",
       "2  insurance  \n",
       "3  insurance  \n",
       "4  insurance  "
      ]
     },
     "execution_count": 6,
     "metadata": {},
     "output_type": "execute_result"
    }
   ],
   "source": [
    "df.head()"
   ]
  },
  {
   "cell_type": "code",
   "execution_count": 7,
   "metadata": {},
   "outputs": [
    {
     "data": {
      "text/html": [
       "<div>\n",
       "<style scoped>\n",
       "    .dataframe tbody tr th:only-of-type {\n",
       "        vertical-align: middle;\n",
       "    }\n",
       "\n",
       "    .dataframe tbody tr th {\n",
       "        vertical-align: top;\n",
       "    }\n",
       "\n",
       "    .dataframe thead th {\n",
       "        text-align: right;\n",
       "    }\n",
       "</style>\n",
       "<table border=\"1\" class=\"dataframe\">\n",
       "  <thead>\n",
       "    <tr style=\"text-align: right;\">\n",
       "      <th></th>\n",
       "      <th>Lang</th>\n",
       "      <th>Text</th>\n",
       "      <th>Author</th>\n",
       "      <th>Service</th>\n",
       "    </tr>\n",
       "  </thead>\n",
       "  <tbody>\n",
       "    <tr>\n",
       "      <th>0</th>\n",
       "      <td>en</td>\n",
       "      <td>card support good yet sebastian release neckla...</td>\n",
       "      <td>xYouCanCallMeAl</td>\n",
       "      <td>card</td>\n",
       "    </tr>\n",
       "    <tr>\n",
       "      <th>1</th>\n",
       "      <td>en</td>\n",
       "      <td>rt terraloire big bank multiple leader sit hos...</td>\n",
       "      <td>MarttinenLee</td>\n",
       "      <td>investment</td>\n",
       "    </tr>\n",
       "    <tr>\n",
       "      <th>2</th>\n",
       "      <td>en</td>\n",
       "      <td>rt wisdomise wisdomise main goal make financia...</td>\n",
       "      <td>Cryptullo</td>\n",
       "      <td>investment</td>\n",
       "    </tr>\n",
       "    <tr>\n",
       "      <th>3</th>\n",
       "      <td>en</td>\n",
       "      <td>hightoweradvsor wealth management firm based c...</td>\n",
       "      <td>AccountingToday</td>\n",
       "      <td>investment</td>\n",
       "    </tr>\n",
       "    <tr>\n",
       "      <th>4</th>\n",
       "      <td>en</td>\n",
       "      <td>rt warpsiwah cast emi nishino full movie http ...</td>\n",
       "      <td>Kakeksugion01</td>\n",
       "      <td>emi</td>\n",
       "    </tr>\n",
       "  </tbody>\n",
       "</table>\n",
       "</div>"
      ],
      "text/plain": [
       "  Lang                                               Text           Author  \\\n",
       "0   en  card support good yet sebastian release neckla...  xYouCanCallMeAl   \n",
       "1   en  rt terraloire big bank multiple leader sit hos...     MarttinenLee   \n",
       "2   en  rt wisdomise wisdomise main goal make financia...        Cryptullo   \n",
       "3   en  hightoweradvsor wealth management firm based c...  AccountingToday   \n",
       "4   en  rt warpsiwah cast emi nishino full movie http ...    Kakeksugion01   \n",
       "\n",
       "      Service  \n",
       "0        card  \n",
       "1  investment  \n",
       "2  investment  \n",
       "3  investment  \n",
       "4         emi  "
      ]
     },
     "execution_count": 7,
     "metadata": {},
     "output_type": "execute_result"
    }
   ],
   "source": [
    "df = df.sample(frac=1)\n",
    "df.reset_index(drop=True,inplace=True)\n",
    "df.head()"
   ]
  },
  {
   "cell_type": "code",
   "execution_count": 8,
   "metadata": {},
   "outputs": [],
   "source": [
    "df.to_csv('raw_twitter_data.csv', index=False)"
   ]
  },
  {
   "cell_type": "code",
   "execution_count": 9,
   "metadata": {},
   "outputs": [
    {
     "data": {
      "text/html": [
       "<div>\n",
       "<style scoped>\n",
       "    .dataframe tbody tr th:only-of-type {\n",
       "        vertical-align: middle;\n",
       "    }\n",
       "\n",
       "    .dataframe tbody tr th {\n",
       "        vertical-align: top;\n",
       "    }\n",
       "\n",
       "    .dataframe thead th {\n",
       "        text-align: right;\n",
       "    }\n",
       "</style>\n",
       "<table border=\"1\" class=\"dataframe\">\n",
       "  <thead>\n",
       "    <tr style=\"text-align: right;\">\n",
       "      <th></th>\n",
       "      <th>Lang</th>\n",
       "      <th>Text</th>\n",
       "      <th>Author</th>\n",
       "      <th>Service</th>\n",
       "    </tr>\n",
       "  </thead>\n",
       "  <tbody>\n",
       "    <tr>\n",
       "      <th>0</th>\n",
       "      <td>en</td>\n",
       "      <td>card support good yet sebastian release neckla...</td>\n",
       "      <td>xYouCanCallMeAl</td>\n",
       "      <td>card</td>\n",
       "    </tr>\n",
       "    <tr>\n",
       "      <th>1</th>\n",
       "      <td>en</td>\n",
       "      <td>rt terraloire big bank multiple leader sit hos...</td>\n",
       "      <td>MarttinenLee</td>\n",
       "      <td>investment</td>\n",
       "    </tr>\n",
       "    <tr>\n",
       "      <th>2</th>\n",
       "      <td>en</td>\n",
       "      <td>rt wisdomise wisdomise main goal make financia...</td>\n",
       "      <td>Cryptullo</td>\n",
       "      <td>investment</td>\n",
       "    </tr>\n",
       "    <tr>\n",
       "      <th>3</th>\n",
       "      <td>en</td>\n",
       "      <td>hightoweradvsor wealth management firm based c...</td>\n",
       "      <td>AccountingToday</td>\n",
       "      <td>investment</td>\n",
       "    </tr>\n",
       "    <tr>\n",
       "      <th>4</th>\n",
       "      <td>en</td>\n",
       "      <td>rt warpsiwah cast emi nishino full movie http ...</td>\n",
       "      <td>Kakeksugion01</td>\n",
       "      <td>emi</td>\n",
       "    </tr>\n",
       "  </tbody>\n",
       "</table>\n",
       "</div>"
      ],
      "text/plain": [
       "  Lang                                               Text           Author  \\\n",
       "0   en  card support good yet sebastian release neckla...  xYouCanCallMeAl   \n",
       "1   en  rt terraloire big bank multiple leader sit hos...     MarttinenLee   \n",
       "2   en  rt wisdomise wisdomise main goal make financia...        Cryptullo   \n",
       "3   en  hightoweradvsor wealth management firm based c...  AccountingToday   \n",
       "4   en  rt warpsiwah cast emi nishino full movie http ...    Kakeksugion01   \n",
       "\n",
       "      Service  \n",
       "0        card  \n",
       "1  investment  \n",
       "2  investment  \n",
       "3  investment  \n",
       "4         emi  "
      ]
     },
     "execution_count": 9,
     "metadata": {},
     "output_type": "execute_result"
    }
   ],
   "source": [
    "for i in range(len(df)):\n",
    "    txt = re.sub('[^a-zA-Z]', ' ', df['Text'][i])\n",
    "    txt = txt.lower()\n",
    "    txt = txt.split()\n",
    "    wl = WordNetLemmatizer()\n",
    "    txt = [wl.lemmatize(word) for word in txt if not word in set(stopwords.words('english'))]\n",
    "    txt = ' '.join(txt)\n",
    "    df['Text'][i] = txt\n",
    "\n",
    "df.head()"
   ]
  },
  {
   "cell_type": "code",
   "execution_count": 10,
   "metadata": {},
   "outputs": [
    {
     "data": {
      "text/plain": [
       "(1789, 4)"
      ]
     },
     "execution_count": 10,
     "metadata": {},
     "output_type": "execute_result"
    }
   ],
   "source": [
    "new_df = df[df['Lang'] == 'en']\n",
    "new_df.shape"
   ]
  },
  {
   "cell_type": "code",
   "execution_count": 11,
   "metadata": {},
   "outputs": [
    {
     "data": {
      "text/html": [
       "<div>\n",
       "<style scoped>\n",
       "    .dataframe tbody tr th:only-of-type {\n",
       "        vertical-align: middle;\n",
       "    }\n",
       "\n",
       "    .dataframe tbody tr th {\n",
       "        vertical-align: top;\n",
       "    }\n",
       "\n",
       "    .dataframe thead th {\n",
       "        text-align: right;\n",
       "    }\n",
       "</style>\n",
       "<table border=\"1\" class=\"dataframe\">\n",
       "  <thead>\n",
       "    <tr style=\"text-align: right;\">\n",
       "      <th></th>\n",
       "      <th>Lang</th>\n",
       "      <th>Text</th>\n",
       "      <th>Author</th>\n",
       "      <th>Service</th>\n",
       "    </tr>\n",
       "  </thead>\n",
       "  <tbody>\n",
       "    <tr>\n",
       "      <th>0</th>\n",
       "      <td>en</td>\n",
       "      <td>card support good yet sebastian release neckla...</td>\n",
       "      <td>xYouCanCallMeAl</td>\n",
       "      <td>card</td>\n",
       "    </tr>\n",
       "    <tr>\n",
       "      <th>1</th>\n",
       "      <td>en</td>\n",
       "      <td>rt terraloire big bank multiple leader sit hos...</td>\n",
       "      <td>MarttinenLee</td>\n",
       "      <td>investment</td>\n",
       "    </tr>\n",
       "    <tr>\n",
       "      <th>2</th>\n",
       "      <td>en</td>\n",
       "      <td>rt wisdomise wisdomise main goal make financia...</td>\n",
       "      <td>Cryptullo</td>\n",
       "      <td>investment</td>\n",
       "    </tr>\n",
       "    <tr>\n",
       "      <th>3</th>\n",
       "      <td>en</td>\n",
       "      <td>hightoweradvsor wealth management firm based c...</td>\n",
       "      <td>AccountingToday</td>\n",
       "      <td>investment</td>\n",
       "    </tr>\n",
       "    <tr>\n",
       "      <th>4</th>\n",
       "      <td>en</td>\n",
       "      <td>rt warpsiwah cast emi nishino full movie http ...</td>\n",
       "      <td>Kakeksugion01</td>\n",
       "      <td>emi</td>\n",
       "    </tr>\n",
       "  </tbody>\n",
       "</table>\n",
       "</div>"
      ],
      "text/plain": [
       "  Lang                                               Text           Author  \\\n",
       "0   en  card support good yet sebastian release neckla...  xYouCanCallMeAl   \n",
       "1   en  rt terraloire big bank multiple leader sit hos...     MarttinenLee   \n",
       "2   en  rt wisdomise wisdomise main goal make financia...        Cryptullo   \n",
       "3   en  hightoweradvsor wealth management firm based c...  AccountingToday   \n",
       "4   en  rt warpsiwah cast emi nishino full movie http ...    Kakeksugion01   \n",
       "\n",
       "      Service  \n",
       "0        card  \n",
       "1  investment  \n",
       "2  investment  \n",
       "3  investment  \n",
       "4         emi  "
      ]
     },
     "execution_count": 11,
     "metadata": {},
     "output_type": "execute_result"
    }
   ],
   "source": [
    "new_df.head()"
   ]
  },
  {
   "cell_type": "code",
   "execution_count": 12,
   "metadata": {},
   "outputs": [
    {
     "name": "stderr",
     "output_type": "stream",
     "text": [
      "C:\\Users\\ayush\\AppData\\Local\\Temp\\ipykernel_8332\\1997559839.py:1: SettingWithCopyWarning: \n",
      "A value is trying to be set on a copy of a slice from a DataFrame\n",
      "\n",
      "See the caveats in the documentation: https://pandas.pydata.org/pandas-docs/stable/user_guide/indexing.html#returning-a-view-versus-a-copy\n",
      "  new_df.drop_duplicates(inplace=True)\n"
     ]
    },
    {
     "data": {
      "text/plain": [
       "(1736, 4)"
      ]
     },
     "execution_count": 12,
     "metadata": {},
     "output_type": "execute_result"
    }
   ],
   "source": [
    "new_df.drop_duplicates(inplace=True)\n",
    "new_df.shape"
   ]
  },
  {
   "cell_type": "code",
   "execution_count": 13,
   "metadata": {},
   "outputs": [],
   "source": [
    "new_df.to_csv('processed_english_twitter_data.csv', index=False)"
   ]
  },
  {
   "cell_type": "markdown",
   "metadata": {},
   "source": [
    "### For handling insurance sub classification"
   ]
  },
  {
   "cell_type": "code",
   "execution_count": null,
   "metadata": {},
   "outputs": [],
   "source": [
    "dframe = pd.DataFrame(columns=['Lang', 'Text', 'username', 'name', 'label'])"
   ]
  },
  {
   "cell_type": "code",
   "execution_count": 5,
   "metadata": {},
   "outputs": [],
   "source": [
    "def twitter_scrape(keyword, count):\n",
    "    cls = keyword.split(' ')\n",
    "    cls = cls[0]\n",
    "    url = 'http://127.0.0.1:8000/tweets/'\n",
    "    obj = {\n",
    "        \"keyword\": keyword,\n",
    "        \"count\": count\n",
    "        }\n",
    "\n",
    "    r = requests.post(url, json=obj)\n",
    "    data = r.json()\n",
    "    tweets = data['tweets']\n",
    "    for tweet in tweets:\n",
    "        temp = [tweet['lang'], tweet['full_text'], tweet['user']['screen_name'], tweet['user']['name'], cls]\n",
    "        dframe.loc[len(dframe.index)] = temp\n",
    "    \n",
    "    return len(dframe)"
   ]
  },
  {
   "cell_type": "code",
   "execution_count": 6,
   "metadata": {},
   "outputs": [
    {
     "data": {
      "text/plain": [
       "400"
      ]
     },
     "execution_count": 6,
     "metadata": {},
     "output_type": "execute_result"
    }
   ],
   "source": [
    "twitter_scrape('motor insurance', 250)\n",
    "twitter_scrape('life insurance', 250)\n",
    "twitter_scrape('home insurance', 250)\n",
    "twitter_scrape('health insurance', 250)\n",
    "twitter_scrape('travel insurance', 250)"
   ]
  },
  {
   "cell_type": "code",
   "execution_count": 7,
   "metadata": {},
   "outputs": [
    {
     "data": {
      "text/html": [
       "<div>\n",
       "<style scoped>\n",
       "    .dataframe tbody tr th:only-of-type {\n",
       "        vertical-align: middle;\n",
       "    }\n",
       "\n",
       "    .dataframe tbody tr th {\n",
       "        vertical-align: top;\n",
       "    }\n",
       "\n",
       "    .dataframe thead th {\n",
       "        text-align: right;\n",
       "    }\n",
       "</style>\n",
       "<table border=\"1\" class=\"dataframe\">\n",
       "  <thead>\n",
       "    <tr style=\"text-align: right;\">\n",
       "      <th></th>\n",
       "      <th>Lang</th>\n",
       "      <th>Text</th>\n",
       "      <th>username</th>\n",
       "      <th>name</th>\n",
       "      <th>label</th>\n",
       "    </tr>\n",
       "  </thead>\n",
       "  <tbody>\n",
       "    <tr>\n",
       "      <th>0</th>\n",
       "      <td>en</td>\n",
       "      <td>🔥 Ascending Wealth 🔥 is here to empower you on...</td>\n",
       "      <td>ascendingwealth</td>\n",
       "      <td>Ascending Wealth Solutions</td>\n",
       "      <td>motor</td>\n",
       "    </tr>\n",
       "    <tr>\n",
       "      <th>1</th>\n",
       "      <td>en</td>\n",
       "      <td>RT @AllanSseky: Drive confidently when you hav...</td>\n",
       "      <td>Redd_Lattte</td>\n",
       "      <td>Redd Latte</td>\n",
       "      <td>motor</td>\n",
       "    </tr>\n",
       "    <tr>\n",
       "      <th>2</th>\n",
       "      <td>en</td>\n",
       "      <td>Protect your auto and garage businesses with #...</td>\n",
       "      <td>ucrrg</td>\n",
       "      <td>Universal Casualty</td>\n",
       "      <td>motor</td>\n",
       "    </tr>\n",
       "    <tr>\n",
       "      <th>3</th>\n",
       "      <td>en</td>\n",
       "      <td>RT @lockhartolivia8: @MiamiHerald I just moved...</td>\n",
       "      <td>kikiakadooc</td>\n",
       "      <td>Huckleberry Dillinger ☮️🟧🌊🇺🇦🇺🇸⚖️🏳️‍🌈</td>\n",
       "      <td>home</td>\n",
       "    </tr>\n",
       "    <tr>\n",
       "      <th>4</th>\n",
       "      <td>en</td>\n",
       "      <td>@GiancarloSopo @RonDeSantis Florida is failing...</td>\n",
       "      <td>jwmkup</td>\n",
       "      <td>John T. Wright</td>\n",
       "      <td>home</td>\n",
       "    </tr>\n",
       "  </tbody>\n",
       "</table>\n",
       "</div>"
      ],
      "text/plain": [
       "  Lang                                               Text         username  \\\n",
       "0   en  🔥 Ascending Wealth 🔥 is here to empower you on...  ascendingwealth   \n",
       "1   en  RT @AllanSseky: Drive confidently when you hav...      Redd_Lattte   \n",
       "2   en  Protect your auto and garage businesses with #...            ucrrg   \n",
       "3   en  RT @lockhartolivia8: @MiamiHerald I just moved...      kikiakadooc   \n",
       "4   en  @GiancarloSopo @RonDeSantis Florida is failing...           jwmkup   \n",
       "\n",
       "                                   name  label  \n",
       "0            Ascending Wealth Solutions  motor  \n",
       "1                            Redd Latte  motor  \n",
       "2                    Universal Casualty  motor  \n",
       "3  Huckleberry Dillinger ☮️🟧🌊🇺🇦🇺🇸⚖️🏳️‍🌈   home  \n",
       "4                        John T. Wright   home  "
      ]
     },
     "execution_count": 7,
     "metadata": {},
     "output_type": "execute_result"
    }
   ],
   "source": [
    "dframe = dframe.sample(frac=1)\n",
    "dframe.reset_index(drop=True,inplace=True)\n",
    "dframe.head()"
   ]
  },
  {
   "cell_type": "code",
   "execution_count": 8,
   "metadata": {},
   "outputs": [
    {
     "data": {
      "text/html": [
       "<div>\n",
       "<style scoped>\n",
       "    .dataframe tbody tr th:only-of-type {\n",
       "        vertical-align: middle;\n",
       "    }\n",
       "\n",
       "    .dataframe tbody tr th {\n",
       "        vertical-align: top;\n",
       "    }\n",
       "\n",
       "    .dataframe thead th {\n",
       "        text-align: right;\n",
       "    }\n",
       "</style>\n",
       "<table border=\"1\" class=\"dataframe\">\n",
       "  <thead>\n",
       "    <tr style=\"text-align: right;\">\n",
       "      <th></th>\n",
       "      <th>Lang</th>\n",
       "      <th>Text</th>\n",
       "      <th>username</th>\n",
       "      <th>name</th>\n",
       "      <th>label</th>\n",
       "    </tr>\n",
       "  </thead>\n",
       "  <tbody>\n",
       "    <tr>\n",
       "      <th>0</th>\n",
       "      <td>en</td>\n",
       "      <td>ascending wealth empower financial journey mut...</td>\n",
       "      <td>ascendingwealth</td>\n",
       "      <td>Ascending Wealth Solutions</td>\n",
       "      <td>motor</td>\n",
       "    </tr>\n",
       "    <tr>\n",
       "      <th>1</th>\n",
       "      <td>en</td>\n",
       "      <td>rt allansseky drive confidently motor third pa...</td>\n",
       "      <td>Redd_Lattte</td>\n",
       "      <td>Redd Latte</td>\n",
       "      <td>motor</td>\n",
       "    </tr>\n",
       "    <tr>\n",
       "      <th>2</th>\n",
       "      <td>en</td>\n",
       "      <td>protect auto garage business riskretentiongrou...</td>\n",
       "      <td>ucrrg</td>\n",
       "      <td>Universal Casualty</td>\n",
       "      <td>motor</td>\n",
       "    </tr>\n",
       "    <tr>\n",
       "      <th>3</th>\n",
       "      <td>en</td>\n",
       "      <td>rt lockhartolivia miamiherald moved california...</td>\n",
       "      <td>kikiakadooc</td>\n",
       "      <td>Huckleberry Dillinger ☮️🟧🌊🇺🇦🇺🇸⚖️🏳️‍🌈</td>\n",
       "      <td>home</td>\n",
       "    </tr>\n",
       "    <tr>\n",
       "      <th>4</th>\n",
       "      <td>en</td>\n",
       "      <td>giancarlosopo rondesantis florida failing way ...</td>\n",
       "      <td>jwmkup</td>\n",
       "      <td>John T. Wright</td>\n",
       "      <td>home</td>\n",
       "    </tr>\n",
       "  </tbody>\n",
       "</table>\n",
       "</div>"
      ],
      "text/plain": [
       "  Lang                                               Text         username  \\\n",
       "0   en  ascending wealth empower financial journey mut...  ascendingwealth   \n",
       "1   en  rt allansseky drive confidently motor third pa...      Redd_Lattte   \n",
       "2   en  protect auto garage business riskretentiongrou...            ucrrg   \n",
       "3   en  rt lockhartolivia miamiherald moved california...      kikiakadooc   \n",
       "4   en  giancarlosopo rondesantis florida failing way ...           jwmkup   \n",
       "\n",
       "                                   name  label  \n",
       "0            Ascending Wealth Solutions  motor  \n",
       "1                            Redd Latte  motor  \n",
       "2                    Universal Casualty  motor  \n",
       "3  Huckleberry Dillinger ☮️🟧🌊🇺🇦🇺🇸⚖️🏳️‍🌈   home  \n",
       "4                        John T. Wright   home  "
      ]
     },
     "execution_count": 8,
     "metadata": {},
     "output_type": "execute_result"
    }
   ],
   "source": [
    "for i in range(len(dframe)):\n",
    "    txt = re.sub('[^a-zA-Z]', ' ', dframe['Text'][i])\n",
    "    txt = txt.lower()\n",
    "    txt = txt.split()\n",
    "    wl = WordNetLemmatizer()\n",
    "    txt = [wl.lemmatize(word) for word in txt if not word in set(stopwords.words('english'))]\n",
    "    txt = ' '.join(txt)\n",
    "    dframe['Text'][i] = txt\n",
    "\n",
    "dframe.head()"
   ]
  },
  {
   "cell_type": "code",
   "execution_count": 9,
   "metadata": {},
   "outputs": [
    {
     "data": {
      "text/plain": [
       "(374, 5)"
      ]
     },
     "execution_count": 9,
     "metadata": {},
     "output_type": "execute_result"
    }
   ],
   "source": [
    "new_frame = dframe[dframe['Lang'] == 'en']\n",
    "new_frame.shape"
   ]
  },
  {
   "cell_type": "code",
   "execution_count": 10,
   "metadata": {},
   "outputs": [
    {
     "data": {
      "text/html": [
       "<div>\n",
       "<style scoped>\n",
       "    .dataframe tbody tr th:only-of-type {\n",
       "        vertical-align: middle;\n",
       "    }\n",
       "\n",
       "    .dataframe tbody tr th {\n",
       "        vertical-align: top;\n",
       "    }\n",
       "\n",
       "    .dataframe thead th {\n",
       "        text-align: right;\n",
       "    }\n",
       "</style>\n",
       "<table border=\"1\" class=\"dataframe\">\n",
       "  <thead>\n",
       "    <tr style=\"text-align: right;\">\n",
       "      <th></th>\n",
       "      <th>Lang</th>\n",
       "      <th>Text</th>\n",
       "      <th>username</th>\n",
       "      <th>name</th>\n",
       "      <th>label</th>\n",
       "    </tr>\n",
       "  </thead>\n",
       "  <tbody>\n",
       "    <tr>\n",
       "      <th>0</th>\n",
       "      <td>en</td>\n",
       "      <td>ascending wealth empower financial journey mut...</td>\n",
       "      <td>ascendingwealth</td>\n",
       "      <td>Ascending Wealth Solutions</td>\n",
       "      <td>motor</td>\n",
       "    </tr>\n",
       "    <tr>\n",
       "      <th>1</th>\n",
       "      <td>en</td>\n",
       "      <td>rt allansseky drive confidently motor third pa...</td>\n",
       "      <td>Redd_Lattte</td>\n",
       "      <td>Redd Latte</td>\n",
       "      <td>motor</td>\n",
       "    </tr>\n",
       "    <tr>\n",
       "      <th>2</th>\n",
       "      <td>en</td>\n",
       "      <td>protect auto garage business riskretentiongrou...</td>\n",
       "      <td>ucrrg</td>\n",
       "      <td>Universal Casualty</td>\n",
       "      <td>motor</td>\n",
       "    </tr>\n",
       "    <tr>\n",
       "      <th>3</th>\n",
       "      <td>en</td>\n",
       "      <td>rt lockhartolivia miamiherald moved california...</td>\n",
       "      <td>kikiakadooc</td>\n",
       "      <td>Huckleberry Dillinger ☮️🟧🌊🇺🇦🇺🇸⚖️🏳️‍🌈</td>\n",
       "      <td>home</td>\n",
       "    </tr>\n",
       "    <tr>\n",
       "      <th>4</th>\n",
       "      <td>en</td>\n",
       "      <td>giancarlosopo rondesantis florida failing way ...</td>\n",
       "      <td>jwmkup</td>\n",
       "      <td>John T. Wright</td>\n",
       "      <td>home</td>\n",
       "    </tr>\n",
       "  </tbody>\n",
       "</table>\n",
       "</div>"
      ],
      "text/plain": [
       "  Lang                                               Text         username  \\\n",
       "0   en  ascending wealth empower financial journey mut...  ascendingwealth   \n",
       "1   en  rt allansseky drive confidently motor third pa...      Redd_Lattte   \n",
       "2   en  protect auto garage business riskretentiongrou...            ucrrg   \n",
       "3   en  rt lockhartolivia miamiherald moved california...      kikiakadooc   \n",
       "4   en  giancarlosopo rondesantis florida failing way ...           jwmkup   \n",
       "\n",
       "                                   name  label  \n",
       "0            Ascending Wealth Solutions  motor  \n",
       "1                            Redd Latte  motor  \n",
       "2                    Universal Casualty  motor  \n",
       "3  Huckleberry Dillinger ☮️🟧🌊🇺🇦🇺🇸⚖️🏳️‍🌈   home  \n",
       "4                        John T. Wright   home  "
      ]
     },
     "execution_count": 10,
     "metadata": {},
     "output_type": "execute_result"
    }
   ],
   "source": [
    "new_frame.head()"
   ]
  },
  {
   "cell_type": "code",
   "execution_count": 11,
   "metadata": {},
   "outputs": [
    {
     "data": {
      "text/html": [
       "<div>\n",
       "<style scoped>\n",
       "    .dataframe tbody tr th:only-of-type {\n",
       "        vertical-align: middle;\n",
       "    }\n",
       "\n",
       "    .dataframe tbody tr th {\n",
       "        vertical-align: top;\n",
       "    }\n",
       "\n",
       "    .dataframe thead th {\n",
       "        text-align: right;\n",
       "    }\n",
       "</style>\n",
       "<table border=\"1\" class=\"dataframe\">\n",
       "  <thead>\n",
       "    <tr style=\"text-align: right;\">\n",
       "      <th></th>\n",
       "      <th>Lang</th>\n",
       "      <th>Text</th>\n",
       "      <th>username</th>\n",
       "      <th>name</th>\n",
       "    </tr>\n",
       "    <tr>\n",
       "      <th>label</th>\n",
       "      <th></th>\n",
       "      <th></th>\n",
       "      <th></th>\n",
       "      <th></th>\n",
       "    </tr>\n",
       "  </thead>\n",
       "  <tbody>\n",
       "    <tr>\n",
       "      <th>health</th>\n",
       "      <td>99</td>\n",
       "      <td>99</td>\n",
       "      <td>99</td>\n",
       "      <td>99</td>\n",
       "    </tr>\n",
       "    <tr>\n",
       "      <th>home</th>\n",
       "      <td>99</td>\n",
       "      <td>99</td>\n",
       "      <td>99</td>\n",
       "      <td>99</td>\n",
       "    </tr>\n",
       "    <tr>\n",
       "      <th>life</th>\n",
       "      <td>78</td>\n",
       "      <td>78</td>\n",
       "      <td>78</td>\n",
       "      <td>78</td>\n",
       "    </tr>\n",
       "    <tr>\n",
       "      <th>motor</th>\n",
       "      <td>98</td>\n",
       "      <td>98</td>\n",
       "      <td>98</td>\n",
       "      <td>98</td>\n",
       "    </tr>\n",
       "  </tbody>\n",
       "</table>\n",
       "</div>"
      ],
      "text/plain": [
       "        Lang  Text  username  name\n",
       "label                             \n",
       "health    99    99        99    99\n",
       "home      99    99        99    99\n",
       "life      78    78        78    78\n",
       "motor     98    98        98    98"
      ]
     },
     "execution_count": 11,
     "metadata": {},
     "output_type": "execute_result"
    }
   ],
   "source": [
    "new_frame.groupby(by='label').count()"
   ]
  },
  {
   "cell_type": "code",
   "execution_count": 12,
   "metadata": {},
   "outputs": [],
   "source": [
    "new_frame.to_csv('insurance_classification.csv', index=False)"
   ]
  },
  {
   "cell_type": "code",
   "execution_count": null,
   "metadata": {},
   "outputs": [],
   "source": []
  }
 ],
 "metadata": {
  "kernelspec": {
   "display_name": "env",
   "language": "python",
   "name": "python3"
  },
  "language_info": {
   "codemirror_mode": {
    "name": "ipython",
    "version": 3
   },
   "file_extension": ".py",
   "mimetype": "text/x-python",
   "name": "python",
   "nbconvert_exporter": "python",
   "pygments_lexer": "ipython3",
   "version": "3.10.9"
  },
  "orig_nbformat": 4
 },
 "nbformat": 4,
 "nbformat_minor": 2
}
