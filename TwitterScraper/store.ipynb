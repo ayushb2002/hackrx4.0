{
 "cells": [
  {
   "cell_type": "code",
   "execution_count": 32,
   "metadata": {},
   "outputs": [
    {
     "name": "stderr",
     "output_type": "stream",
     "text": [
      "[nltk_data] Downloading package stopwords to\n",
      "[nltk_data]     C:\\Users\\ayush\\AppData\\Roaming\\nltk_data...\n",
      "[nltk_data]   Unzipping corpora\\stopwords.zip.\n",
      "[nltk_data] Downloading package wordnet to\n",
      "[nltk_data]     C:\\Users\\ayush\\AppData\\Roaming\\nltk_data...\n"
     ]
    },
    {
     "data": {
      "text/plain": [
       "True"
      ]
     },
     "execution_count": 32,
     "metadata": {},
     "output_type": "execute_result"
    }
   ],
   "source": [
    "import requests\n",
    "import pandas as pd\n",
    "import numpy as np\n",
    "import re\n",
    "import nltk\n",
    "from nltk.corpus import stopwords\n",
    "from nltk.stem import WordNetLemmatizer\n",
    "nltk.download('stopwords')\n",
    "nltk.download('wordnet')"
   ]
  },
  {
   "cell_type": "code",
   "execution_count": 15,
   "metadata": {},
   "outputs": [],
   "source": [
    "df = pd.DataFrame(columns=['Lang', 'Text', 'Author', 'Service'])"
   ]
  },
  {
   "cell_type": "code",
   "execution_count": 16,
   "metadata": {},
   "outputs": [],
   "source": [
    "def store_to_csv(keyword, count, cls):\n",
    "    url = 'http://127.0.0.1:8000/tweets/'\n",
    "    obj = {\n",
    "        \"keyword\": keyword,\n",
    "        \"count\": count\n",
    "        }\n",
    "\n",
    "    r = requests.post(url, json=obj)\n",
    "    data = r.json()\n",
    "    tweets = data['tweets']\n",
    "    for tweet in tweets:\n",
    "        temp = [tweet['lang'], tweet['full_text'], tweet['user']['screen_name'], cls]\n",
    "        df.loc[len(df.index)] = temp\n",
    "    \n",
    "    return len(df)\n",
    "        "
   ]
  },
  {
   "cell_type": "code",
   "execution_count": 17,
   "metadata": {},
   "outputs": [
    {
     "data": {
      "text/plain": [
       "1003"
      ]
     },
     "execution_count": 17,
     "metadata": {},
     "output_type": "execute_result"
    }
   ],
   "source": [
    "store_to_csv('emi bajaj', 150, 'emi')\n",
    "store_to_csv('loans bajaj', 150, 'loan')\n",
    "store_to_csv('cards bajaj', 150, 'card')\n",
    "store_to_csv('insurance bajaj', 150, 'insurance')\n",
    "store_to_csv('emi', 250, 'emi')\n",
    "store_to_csv('loans', 250, 'loan')\n",
    "store_to_csv('cards', 250, 'card')\n",
    "store_to_csv('insurance', 250, 'insurance')\n",
    "store_to_csv('investment and wealth management', 150, 'investment')\n",
    "store_to_csv('savings and deposit', 150, 'savings')\n",
    "store_to_csv('investment bajaj', 50, 'investment')\n",
    "store_to_csv('savings bajaj', 50, 'savings')"
   ]
  },
  {
   "cell_type": "code",
   "execution_count": 18,
   "metadata": {},
   "outputs": [
    {
     "data": {
      "text/html": [
       "<div>\n",
       "<style scoped>\n",
       "    .dataframe tbody tr th:only-of-type {\n",
       "        vertical-align: middle;\n",
       "    }\n",
       "\n",
       "    .dataframe tbody tr th {\n",
       "        vertical-align: top;\n",
       "    }\n",
       "\n",
       "    .dataframe thead th {\n",
       "        text-align: right;\n",
       "    }\n",
       "</style>\n",
       "<table border=\"1\" class=\"dataframe\">\n",
       "  <thead>\n",
       "    <tr style=\"text-align: right;\">\n",
       "      <th></th>\n",
       "      <th>Lang</th>\n",
       "      <th>Text</th>\n",
       "      <th>Author</th>\n",
       "      <th>Service</th>\n",
       "    </tr>\n",
       "  </thead>\n",
       "  <tbody>\n",
       "    <tr>\n",
       "      <th>0</th>\n",
       "      <td>en</td>\n",
       "      <td>No Cost EMI options available with Bajaj Finse...</td>\n",
       "      <td>nkw_kaff</td>\n",
       "      <td>emi</td>\n",
       "    </tr>\n",
       "    <tr>\n",
       "      <th>1</th>\n",
       "      <td>en</td>\n",
       "      <td>@Bajaj_Finserv I want to cancel my EMI Card as...</td>\n",
       "      <td>anandthiag</td>\n",
       "      <td>emi</td>\n",
       "    </tr>\n",
       "    <tr>\n",
       "      <th>2</th>\n",
       "      <td>en</td>\n",
       "      <td>@Bajaj_Finserv \\nHow to complain about my Cash...</td>\n",
       "      <td>Ananthalee</td>\n",
       "      <td>emi</td>\n",
       "    </tr>\n",
       "    <tr>\n",
       "      <th>3</th>\n",
       "      <td>en</td>\n",
       "      <td>@Bajaj_Finserv \\nDear sir/ mam\\n    I want to ...</td>\n",
       "      <td>sk254266</td>\n",
       "      <td>emi</td>\n",
       "    </tr>\n",
       "    <tr>\n",
       "      <th>4</th>\n",
       "      <td>in</td>\n",
       "      <td>@Bajaj_Finance Mera Ecs Rifand full payment na...</td>\n",
       "      <td>MdsazzadAnsari</td>\n",
       "      <td>emi</td>\n",
       "    </tr>\n",
       "  </tbody>\n",
       "</table>\n",
       "</div>"
      ],
      "text/plain": [
       "  Lang                                               Text          Author  \\\n",
       "0   en  No Cost EMI options available with Bajaj Finse...        nkw_kaff   \n",
       "1   en  @Bajaj_Finserv I want to cancel my EMI Card as...      anandthiag   \n",
       "2   en  @Bajaj_Finserv \\nHow to complain about my Cash...      Ananthalee   \n",
       "3   en  @Bajaj_Finserv \\nDear sir/ mam\\n    I want to ...        sk254266   \n",
       "4   in  @Bajaj_Finance Mera Ecs Rifand full payment na...  MdsazzadAnsari   \n",
       "\n",
       "  Service  \n",
       "0     emi  \n",
       "1     emi  \n",
       "2     emi  \n",
       "3     emi  \n",
       "4     emi  "
      ]
     },
     "execution_count": 18,
     "metadata": {},
     "output_type": "execute_result"
    }
   ],
   "source": [
    "df.head()"
   ]
  },
  {
   "cell_type": "code",
   "execution_count": 19,
   "metadata": {},
   "outputs": [
    {
     "data": {
      "text/html": [
       "<div>\n",
       "<style scoped>\n",
       "    .dataframe tbody tr th:only-of-type {\n",
       "        vertical-align: middle;\n",
       "    }\n",
       "\n",
       "    .dataframe tbody tr th {\n",
       "        vertical-align: top;\n",
       "    }\n",
       "\n",
       "    .dataframe thead th {\n",
       "        text-align: right;\n",
       "    }\n",
       "</style>\n",
       "<table border=\"1\" class=\"dataframe\">\n",
       "  <thead>\n",
       "    <tr style=\"text-align: right;\">\n",
       "      <th></th>\n",
       "      <th>Lang</th>\n",
       "      <th>Text</th>\n",
       "      <th>Author</th>\n",
       "      <th>Service</th>\n",
       "    </tr>\n",
       "  </thead>\n",
       "  <tbody>\n",
       "    <tr>\n",
       "      <th>321</th>\n",
       "      <td>en</td>\n",
       "      <td>@Tata_Crucible B. Bajaj Allianz General Insura...</td>\n",
       "      <td>MrD_Shukla</td>\n",
       "      <td>insurance</td>\n",
       "    </tr>\n",
       "    <tr>\n",
       "      <th>618</th>\n",
       "      <td>en</td>\n",
       "      <td>\"Our cards are made with love and attention to...</td>\n",
       "      <td>dreamsbym_</td>\n",
       "      <td>card</td>\n",
       "    </tr>\n",
       "    <tr>\n",
       "      <th>384</th>\n",
       "      <td>ja</td>\n",
       "      <td>@da_emi_ ありがとうございます✨\\n朝陽の方角を意識してあとはひたすら鹿さん追っかけ...</td>\n",
       "      <td>benzycocker</td>\n",
       "      <td>emi</td>\n",
       "    </tr>\n",
       "    <tr>\n",
       "      <th>951</th>\n",
       "      <td>en</td>\n",
       "      <td>RT @Coolfundoo: A man's top stock holdings are...</td>\n",
       "      <td>Coolfundoo</td>\n",
       "      <td>investment</td>\n",
       "    </tr>\n",
       "    <tr>\n",
       "      <th>369</th>\n",
       "      <td>es</td>\n",
       "      <td>RT @Pausuma: Wendy estimaba mucho a Apio! Pero...</td>\n",
       "      <td>Alejandra_Bco17</td>\n",
       "      <td>emi</td>\n",
       "    </tr>\n",
       "  </tbody>\n",
       "</table>\n",
       "</div>"
      ],
      "text/plain": [
       "    Lang                                               Text           Author  \\\n",
       "321   en  @Tata_Crucible B. Bajaj Allianz General Insura...       MrD_Shukla   \n",
       "618   en  \"Our cards are made with love and attention to...       dreamsbym_   \n",
       "384   ja  @da_emi_ ありがとうございます✨\\n朝陽の方角を意識してあとはひたすら鹿さん追っかけ...      benzycocker   \n",
       "951   en  RT @Coolfundoo: A man's top stock holdings are...       Coolfundoo   \n",
       "369   es  RT @Pausuma: Wendy estimaba mucho a Apio! Pero...  Alejandra_Bco17   \n",
       "\n",
       "        Service  \n",
       "321   insurance  \n",
       "618        card  \n",
       "384         emi  \n",
       "951  investment  \n",
       "369         emi  "
      ]
     },
     "execution_count": 19,
     "metadata": {},
     "output_type": "execute_result"
    }
   ],
   "source": [
    "df = df.sample(frac=1)\n",
    "df.reset_index(drop=True,inplace=True)\n",
    "df.head()"
   ]
  },
  {
   "cell_type": "code",
   "execution_count": 34,
   "metadata": {},
   "outputs": [],
   "source": [
    "df.to_csv('raw_twitter_data.csv', index=False)"
   ]
  },
  {
   "cell_type": "code",
   "execution_count": 35,
   "metadata": {},
   "outputs": [
    {
     "data": {
      "text/html": [
       "<div>\n",
       "<style scoped>\n",
       "    .dataframe tbody tr th:only-of-type {\n",
       "        vertical-align: middle;\n",
       "    }\n",
       "\n",
       "    .dataframe tbody tr th {\n",
       "        vertical-align: top;\n",
       "    }\n",
       "\n",
       "    .dataframe thead th {\n",
       "        text-align: right;\n",
       "    }\n",
       "</style>\n",
       "<table border=\"1\" class=\"dataframe\">\n",
       "  <thead>\n",
       "    <tr style=\"text-align: right;\">\n",
       "      <th></th>\n",
       "      <th>Lang</th>\n",
       "      <th>Text</th>\n",
       "      <th>Author</th>\n",
       "      <th>Service</th>\n",
       "    </tr>\n",
       "  </thead>\n",
       "  <tbody>\n",
       "    <tr>\n",
       "      <th>0</th>\n",
       "      <td>en</td>\n",
       "      <td>tata crucible b bajaj allianz general insuranc...</td>\n",
       "      <td>MrD_Shukla</td>\n",
       "      <td>insurance</td>\n",
       "    </tr>\n",
       "    <tr>\n",
       "      <th>1</th>\n",
       "      <td>en</td>\n",
       "      <td>card made love attention detail every card spe...</td>\n",
       "      <td>dreamsbym_</td>\n",
       "      <td>card</td>\n",
       "    </tr>\n",
       "    <tr>\n",
       "      <th>2</th>\n",
       "      <td>ja</td>\n",
       "      <td>da emi</td>\n",
       "      <td>benzycocker</td>\n",
       "      <td>emi</td>\n",
       "    </tr>\n",
       "    <tr>\n",
       "      <th>3</th>\n",
       "      <td>en</td>\n",
       "      <td>rt coolfundoo man top stock holding like secre...</td>\n",
       "      <td>Coolfundoo</td>\n",
       "      <td>investment</td>\n",
       "    </tr>\n",
       "    <tr>\n",
       "      <th>4</th>\n",
       "      <td>es</td>\n",
       "      <td>rt pausuma wendy estimaba mucho apio pero hoy ...</td>\n",
       "      <td>Alejandra_Bco17</td>\n",
       "      <td>emi</td>\n",
       "    </tr>\n",
       "  </tbody>\n",
       "</table>\n",
       "</div>"
      ],
      "text/plain": [
       "  Lang                                               Text           Author  \\\n",
       "0   en  tata crucible b bajaj allianz general insuranc...       MrD_Shukla   \n",
       "1   en  card made love attention detail every card spe...       dreamsbym_   \n",
       "2   ja                                             da emi      benzycocker   \n",
       "3   en  rt coolfundoo man top stock holding like secre...       Coolfundoo   \n",
       "4   es  rt pausuma wendy estimaba mucho apio pero hoy ...  Alejandra_Bco17   \n",
       "\n",
       "      Service  \n",
       "0   insurance  \n",
       "1        card  \n",
       "2         emi  \n",
       "3  investment  \n",
       "4         emi  "
      ]
     },
     "execution_count": 35,
     "metadata": {},
     "output_type": "execute_result"
    }
   ],
   "source": [
    "for i in range(len(df)):\n",
    "    txt = re.sub('[^a-zA-Z]', ' ', df['Text'][i])\n",
    "    txt = txt.lower()\n",
    "    txt = txt.split()\n",
    "    wl = WordNetLemmatizer()\n",
    "    txt = [wl.lemmatize(word) for word in txt if not word in set(stopwords.words('english'))]\n",
    "    txt = ' '.join(txt)\n",
    "    df['Text'][i] = txt\n",
    "\n",
    "df.head()"
   ]
  },
  {
   "cell_type": "code",
   "execution_count": 36,
   "metadata": {},
   "outputs": [
    {
     "data": {
      "text/plain": [
       "(719, 4)"
      ]
     },
     "execution_count": 36,
     "metadata": {},
     "output_type": "execute_result"
    }
   ],
   "source": [
    "new_df = df[df['Lang'] == 'en']\n",
    "new_df.shape"
   ]
  },
  {
   "cell_type": "code",
   "execution_count": 37,
   "metadata": {},
   "outputs": [
    {
     "data": {
      "text/html": [
       "<div>\n",
       "<style scoped>\n",
       "    .dataframe tbody tr th:only-of-type {\n",
       "        vertical-align: middle;\n",
       "    }\n",
       "\n",
       "    .dataframe tbody tr th {\n",
       "        vertical-align: top;\n",
       "    }\n",
       "\n",
       "    .dataframe thead th {\n",
       "        text-align: right;\n",
       "    }\n",
       "</style>\n",
       "<table border=\"1\" class=\"dataframe\">\n",
       "  <thead>\n",
       "    <tr style=\"text-align: right;\">\n",
       "      <th></th>\n",
       "      <th>Lang</th>\n",
       "      <th>Text</th>\n",
       "      <th>Author</th>\n",
       "      <th>Service</th>\n",
       "    </tr>\n",
       "  </thead>\n",
       "  <tbody>\n",
       "    <tr>\n",
       "      <th>0</th>\n",
       "      <td>en</td>\n",
       "      <td>tata crucible b bajaj allianz general insuranc...</td>\n",
       "      <td>MrD_Shukla</td>\n",
       "      <td>insurance</td>\n",
       "    </tr>\n",
       "    <tr>\n",
       "      <th>1</th>\n",
       "      <td>en</td>\n",
       "      <td>card made love attention detail every card spe...</td>\n",
       "      <td>dreamsbym_</td>\n",
       "      <td>card</td>\n",
       "    </tr>\n",
       "    <tr>\n",
       "      <th>3</th>\n",
       "      <td>en</td>\n",
       "      <td>rt coolfundoo man top stock holding like secre...</td>\n",
       "      <td>Coolfundoo</td>\n",
       "      <td>investment</td>\n",
       "    </tr>\n",
       "    <tr>\n",
       "      <th>5</th>\n",
       "      <td>en</td>\n",
       "      <td>rt quicktake south korea unique rental system ...</td>\n",
       "      <td>CaudiaAngelica</td>\n",
       "      <td>savings</td>\n",
       "    </tr>\n",
       "    <tr>\n",
       "      <th>6</th>\n",
       "      <td>en</td>\n",
       "      <td>amit hi please avoid sharing sensitive informa...</td>\n",
       "      <td>Bajaj_Finance</td>\n",
       "      <td>emi</td>\n",
       "    </tr>\n",
       "  </tbody>\n",
       "</table>\n",
       "</div>"
      ],
      "text/plain": [
       "  Lang                                               Text          Author  \\\n",
       "0   en  tata crucible b bajaj allianz general insuranc...      MrD_Shukla   \n",
       "1   en  card made love attention detail every card spe...      dreamsbym_   \n",
       "3   en  rt coolfundoo man top stock holding like secre...      Coolfundoo   \n",
       "5   en  rt quicktake south korea unique rental system ...  CaudiaAngelica   \n",
       "6   en  amit hi please avoid sharing sensitive informa...   Bajaj_Finance   \n",
       "\n",
       "      Service  \n",
       "0   insurance  \n",
       "1        card  \n",
       "3  investment  \n",
       "5     savings  \n",
       "6         emi  "
      ]
     },
     "execution_count": 37,
     "metadata": {},
     "output_type": "execute_result"
    }
   ],
   "source": [
    "new_df.head()"
   ]
  },
  {
   "cell_type": "code",
   "execution_count": 38,
   "metadata": {},
   "outputs": [
    {
     "name": "stderr",
     "output_type": "stream",
     "text": [
      "C:\\Users\\ayush\\AppData\\Local\\Temp\\ipykernel_6040\\1997559839.py:1: SettingWithCopyWarning: \n",
      "A value is trying to be set on a copy of a slice from a DataFrame\n",
      "\n",
      "See the caveats in the documentation: https://pandas.pydata.org/pandas-docs/stable/user_guide/indexing.html#returning-a-view-versus-a-copy\n",
      "  new_df.drop_duplicates(inplace=True)\n"
     ]
    },
    {
     "data": {
      "text/plain": [
       "(718, 4)"
      ]
     },
     "execution_count": 38,
     "metadata": {},
     "output_type": "execute_result"
    }
   ],
   "source": [
    "new_df.drop_duplicates(inplace=True)\n",
    "new_df.shape"
   ]
  },
  {
   "cell_type": "code",
   "execution_count": 39,
   "metadata": {},
   "outputs": [],
   "source": [
    "new_df.to_csv('processed_english_twitter_data.csv', index=False)"
   ]
  },
  {
   "cell_type": "code",
   "execution_count": null,
   "metadata": {},
   "outputs": [],
   "source": []
  }
 ],
 "metadata": {
  "kernelspec": {
   "display_name": "env",
   "language": "python",
   "name": "python3"
  },
  "language_info": {
   "codemirror_mode": {
    "name": "ipython",
    "version": 3
   },
   "file_extension": ".py",
   "mimetype": "text/x-python",
   "name": "python",
   "nbconvert_exporter": "python",
   "pygments_lexer": "ipython3",
   "version": "3.10.9"
  },
  "orig_nbformat": 4
 },
 "nbformat": 4,
 "nbformat_minor": 2
}
